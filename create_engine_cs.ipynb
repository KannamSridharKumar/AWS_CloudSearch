{
 "cells": [
  {
   "cell_type": "code",
   "execution_count": 1,
   "metadata": {},
   "outputs": [
    {
     "data": {
      "application/javascript": [
       "\n",
       "            setTimeout(function() {\n",
       "                var nbb_cell_id = 1;\n",
       "                var nbb_unformatted_code = \"%load_ext nb_black\";\n",
       "                var nbb_formatted_code = \"%load_ext nb_black\";\n",
       "                var nbb_cells = Jupyter.notebook.get_cells();\n",
       "                for (var i = 0; i < nbb_cells.length; ++i) {\n",
       "                    if (nbb_cells[i].input_prompt_number == nbb_cell_id) {\n",
       "                        if (nbb_cells[i].get_text() == nbb_unformatted_code) {\n",
       "                             nbb_cells[i].set_text(nbb_formatted_code);\n",
       "                        }\n",
       "                        break;\n",
       "                    }\n",
       "                }\n",
       "            }, 500);\n",
       "            "
      ],
      "text/plain": [
       "<IPython.core.display.Javascript object>"
      ]
     },
     "metadata": {},
     "output_type": "display_data"
    }
   ],
   "source": [
    "%load_ext nb_black"
   ]
  },
  {
   "cell_type": "code",
   "execution_count": 2,
   "metadata": {},
   "outputs": [
    {
     "data": {
      "application/javascript": [
       "\n",
       "            setTimeout(function() {\n",
       "                var nbb_cell_id = 2;\n",
       "                var nbb_unformatted_code = \"import boto3\\nimport pandas as pd\\nimport json\\nimport time\";\n",
       "                var nbb_formatted_code = \"import boto3\\nimport pandas as pd\\nimport json\\nimport time\";\n",
       "                var nbb_cells = Jupyter.notebook.get_cells();\n",
       "                for (var i = 0; i < nbb_cells.length; ++i) {\n",
       "                    if (nbb_cells[i].input_prompt_number == nbb_cell_id) {\n",
       "                        if (nbb_cells[i].get_text() == nbb_unformatted_code) {\n",
       "                             nbb_cells[i].set_text(nbb_formatted_code);\n",
       "                        }\n",
       "                        break;\n",
       "                    }\n",
       "                }\n",
       "            }, 500);\n",
       "            "
      ],
      "text/plain": [
       "<IPython.core.display.Javascript object>"
      ]
     },
     "metadata": {},
     "output_type": "display_data"
    }
   ],
   "source": [
    "import boto3\n",
    "import pandas as pd\n",
    "import json\n",
    "import time"
   ]
  },
  {
   "cell_type": "code",
   "execution_count": 3,
   "metadata": {},
   "outputs": [
    {
     "data": {
      "application/javascript": [
       "\n",
       "            setTimeout(function() {\n",
       "                var nbb_cell_id = 3;\n",
       "                var nbb_unformatted_code = \"client = boto3.client(\\\"cloudsearch\\\")\";\n",
       "                var nbb_formatted_code = \"client = boto3.client(\\\"cloudsearch\\\")\";\n",
       "                var nbb_cells = Jupyter.notebook.get_cells();\n",
       "                for (var i = 0; i < nbb_cells.length; ++i) {\n",
       "                    if (nbb_cells[i].input_prompt_number == nbb_cell_id) {\n",
       "                        if (nbb_cells[i].get_text() == nbb_unformatted_code) {\n",
       "                             nbb_cells[i].set_text(nbb_formatted_code);\n",
       "                        }\n",
       "                        break;\n",
       "                    }\n",
       "                }\n",
       "            }, 500);\n",
       "            "
      ],
      "text/plain": [
       "<IPython.core.display.Javascript object>"
      ]
     },
     "metadata": {},
     "output_type": "display_data"
    }
   ],
   "source": [
    "client = boto3.client(\"cloudsearch\")"
   ]
  },
  {
   "cell_type": "code",
   "execution_count": 26,
   "metadata": {},
   "outputs": [
    {
     "data": {
      "application/javascript": [
       "\n",
       "            setTimeout(function() {\n",
       "                var nbb_cell_id = 26;\n",
       "                var nbb_unformatted_code = \"domain_name = \\\"cs-demo-4\\\"\";\n",
       "                var nbb_formatted_code = \"domain_name = \\\"cs-demo-4\\\"\";\n",
       "                var nbb_cells = Jupyter.notebook.get_cells();\n",
       "                for (var i = 0; i < nbb_cells.length; ++i) {\n",
       "                    if (nbb_cells[i].input_prompt_number == nbb_cell_id) {\n",
       "                        if (nbb_cells[i].get_text() == nbb_unformatted_code) {\n",
       "                             nbb_cells[i].set_text(nbb_formatted_code);\n",
       "                        }\n",
       "                        break;\n",
       "                    }\n",
       "                }\n",
       "            }, 500);\n",
       "            "
      ],
      "text/plain": [
       "<IPython.core.display.Javascript object>"
      ]
     },
     "metadata": {},
     "output_type": "display_data"
    }
   ],
   "source": [
    "domain_name = \"cs-demo-4\""
   ]
  },
  {
   "cell_type": "code",
   "execution_count": 27,
   "metadata": {},
   "outputs": [
    {
     "name": "stdout",
     "output_type": "stream",
     "text": [
      "domain create status code:  200\n"
     ]
    },
    {
     "data": {
      "application/javascript": [
       "\n",
       "            setTimeout(function() {\n",
       "                var nbb_cell_id = 27;\n",
       "                var nbb_unformatted_code = \"response = client.create_domain(DomainName=domain_name)\\nprint(\\\"domain create status code: \\\", response[\\\"ResponseMetadata\\\"][\\\"HTTPStatusCode\\\"])\";\n",
       "                var nbb_formatted_code = \"response = client.create_domain(DomainName=domain_name)\\nprint(\\\"domain create status code: \\\", response[\\\"ResponseMetadata\\\"][\\\"HTTPStatusCode\\\"])\";\n",
       "                var nbb_cells = Jupyter.notebook.get_cells();\n",
       "                for (var i = 0; i < nbb_cells.length; ++i) {\n",
       "                    if (nbb_cells[i].input_prompt_number == nbb_cell_id) {\n",
       "                        if (nbb_cells[i].get_text() == nbb_unformatted_code) {\n",
       "                             nbb_cells[i].set_text(nbb_formatted_code);\n",
       "                        }\n",
       "                        break;\n",
       "                    }\n",
       "                }\n",
       "            }, 500);\n",
       "            "
      ],
      "text/plain": [
       "<IPython.core.display.Javascript object>"
      ]
     },
     "metadata": {},
     "output_type": "display_data"
    }
   ],
   "source": [
    "response = client.create_domain(DomainName=domain_name)\n",
    "print(\"domain create status code: \", response[\"ResponseMetadata\"][\"HTTPStatusCode\"])"
   ]
  },
  {
   "cell_type": "code",
   "execution_count": 6,
   "metadata": {},
   "outputs": [
    {
     "data": {
      "application/javascript": [
       "\n",
       "            setTimeout(function() {\n",
       "                var nbb_cell_id = 6;\n",
       "                var nbb_unformatted_code = \"time.sleep(300)\";\n",
       "                var nbb_formatted_code = \"time.sleep(300)\";\n",
       "                var nbb_cells = Jupyter.notebook.get_cells();\n",
       "                for (var i = 0; i < nbb_cells.length; ++i) {\n",
       "                    if (nbb_cells[i].input_prompt_number == nbb_cell_id) {\n",
       "                        if (nbb_cells[i].get_text() == nbb_unformatted_code) {\n",
       "                             nbb_cells[i].set_text(nbb_formatted_code);\n",
       "                        }\n",
       "                        break;\n",
       "                    }\n",
       "                }\n",
       "            }, 500);\n",
       "            "
      ],
      "text/plain": [
       "<IPython.core.display.Javascript object>"
      ]
     },
     "metadata": {},
     "output_type": "display_data"
    }
   ],
   "source": [
    "time.sleep(600)"
   ]
  },
  {
   "cell_type": "code",
   "execution_count": 28,
   "metadata": {},
   "outputs": [
    {
     "name": "stdout",
     "output_type": "stream",
     "text": [
      "doc_ep:  doc-cs-demo-4-fzbyb2zqq4bzl6owircjag52r4.ap-southeast-2.cloudsearch.amazonaws.com\n",
      "search_ep:  search-cs-demo-4-fzbyb2zqq4bzl6owircjag52r4.ap-southeast-2.cloudsearch.amazonaws.com\n"
     ]
    },
    {
     "data": {
      "application/javascript": [
       "\n",
       "            setTimeout(function() {\n",
       "                var nbb_cell_id = 28;\n",
       "                var nbb_unformatted_code = \"response = client.describe_domains(DomainNames=[domain_name])\\ndoc_ep = response[\\\"DomainStatusList\\\"][0][\\\"DocService\\\"][\\\"Endpoint\\\"]\\nsearch_ep = response[\\\"DomainStatusList\\\"][0][\\\"SearchService\\\"][\\\"Endpoint\\\"]\\nprint(\\\"doc_ep: \\\", doc_ep)\\nprint(\\\"search_ep: \\\", search_ep)\";\n",
       "                var nbb_formatted_code = \"response = client.describe_domains(DomainNames=[domain_name])\\ndoc_ep = response[\\\"DomainStatusList\\\"][0][\\\"DocService\\\"][\\\"Endpoint\\\"]\\nsearch_ep = response[\\\"DomainStatusList\\\"][0][\\\"SearchService\\\"][\\\"Endpoint\\\"]\\nprint(\\\"doc_ep: \\\", doc_ep)\\nprint(\\\"search_ep: \\\", search_ep)\";\n",
       "                var nbb_cells = Jupyter.notebook.get_cells();\n",
       "                for (var i = 0; i < nbb_cells.length; ++i) {\n",
       "                    if (nbb_cells[i].input_prompt_number == nbb_cell_id) {\n",
       "                        if (nbb_cells[i].get_text() == nbb_unformatted_code) {\n",
       "                             nbb_cells[i].set_text(nbb_formatted_code);\n",
       "                        }\n",
       "                        break;\n",
       "                    }\n",
       "                }\n",
       "            }, 500);\n",
       "            "
      ],
      "text/plain": [
       "<IPython.core.display.Javascript object>"
      ]
     },
     "metadata": {},
     "output_type": "display_data"
    }
   ],
   "source": [
    "response = client.describe_domains(DomainNames=[domain_name])\n",
    "doc_ep = response[\"DomainStatusList\"][0][\"DocService\"][\"Endpoint\"]\n",
    "search_ep = response[\"DomainStatusList\"][0][\"SearchService\"][\"Endpoint\"]\n",
    "print(\"doc_ep: \", doc_ep)\n",
    "print(\"search_ep: \", search_ep)"
   ]
  },
  {
   "cell_type": "code",
   "execution_count": 9,
   "metadata": {},
   "outputs": [
    {
     "data": {
      "application/javascript": [
       "\n",
       "            setTimeout(function() {\n",
       "                var nbb_cell_id = 9;\n",
       "                var nbb_unformatted_code = \"doc_client = boto3.client(\\\"cloudsearchdomain\\\", endpoint_url=f\\\"https://{doc_ep}\\\")\";\n",
       "                var nbb_formatted_code = \"doc_client = boto3.client(\\\"cloudsearchdomain\\\", endpoint_url=f\\\"https://{doc_ep}\\\")\";\n",
       "                var nbb_cells = Jupyter.notebook.get_cells();\n",
       "                for (var i = 0; i < nbb_cells.length; ++i) {\n",
       "                    if (nbb_cells[i].input_prompt_number == nbb_cell_id) {\n",
       "                        if (nbb_cells[i].get_text() == nbb_unformatted_code) {\n",
       "                             nbb_cells[i].set_text(nbb_formatted_code);\n",
       "                        }\n",
       "                        break;\n",
       "                    }\n",
       "                }\n",
       "            }, 500);\n",
       "            "
      ],
      "text/plain": [
       "<IPython.core.display.Javascript object>"
      ]
     },
     "metadata": {},
     "output_type": "display_data"
    }
   ],
   "source": [
    "doc_client = boto3.client(\"cloudsearchdomain\", endpoint_url=f\"https://{doc_ep}\")"
   ]
  },
  {
   "cell_type": "code",
   "execution_count": 10,
   "metadata": {},
   "outputs": [
    {
     "data": {
      "application/javascript": [
       "\n",
       "            setTimeout(function() {\n",
       "                var nbb_cell_id = 10;\n",
       "                var nbb_unformatted_code = \"src_client = boto3.client(\\\"cloudsearchdomain\\\", endpoint_url=f\\\"https://{search_ep}\\\")\";\n",
       "                var nbb_formatted_code = \"src_client = boto3.client(\\\"cloudsearchdomain\\\", endpoint_url=f\\\"https://{search_ep}\\\")\";\n",
       "                var nbb_cells = Jupyter.notebook.get_cells();\n",
       "                for (var i = 0; i < nbb_cells.length; ++i) {\n",
       "                    if (nbb_cells[i].input_prompt_number == nbb_cell_id) {\n",
       "                        if (nbb_cells[i].get_text() == nbb_unformatted_code) {\n",
       "                             nbb_cells[i].set_text(nbb_formatted_code);\n",
       "                        }\n",
       "                        break;\n",
       "                    }\n",
       "                }\n",
       "            }, 500);\n",
       "            "
      ],
      "text/plain": [
       "<IPython.core.display.Javascript object>"
      ]
     },
     "metadata": {},
     "output_type": "display_data"
    }
   ],
   "source": [
    "src_client = boto3.client(\"cloudsearchdomain\", endpoint_url=f\"https://{search_ep}\")"
   ]
  },
  {
   "cell_type": "code",
   "execution_count": 11,
   "metadata": {},
   "outputs": [
    {
     "data": {
      "application/javascript": [
       "\n",
       "            setTimeout(function() {\n",
       "                var nbb_cell_id = 11;\n",
       "                var nbb_unformatted_code = \"response = client.define_index_field(\\n    DomainName=domain_name,\\n    IndexField={\\n        \\\"IndexFieldName\\\": \\\"id\\\", \\n        \\\"IndexFieldType\\\": \\\"text\\\", \\n        \\\"TextOptions\\\": {}},\\n)\";\n",
       "                var nbb_formatted_code = \"response = client.define_index_field(\\n    DomainName=domain_name,\\n    IndexField={\\\"IndexFieldName\\\": \\\"id\\\", \\\"IndexFieldType\\\": \\\"text\\\", \\\"TextOptions\\\": {}},\\n)\";\n",
       "                var nbb_cells = Jupyter.notebook.get_cells();\n",
       "                for (var i = 0; i < nbb_cells.length; ++i) {\n",
       "                    if (nbb_cells[i].input_prompt_number == nbb_cell_id) {\n",
       "                        if (nbb_cells[i].get_text() == nbb_unformatted_code) {\n",
       "                             nbb_cells[i].set_text(nbb_formatted_code);\n",
       "                        }\n",
       "                        break;\n",
       "                    }\n",
       "                }\n",
       "            }, 500);\n",
       "            "
      ],
      "text/plain": [
       "<IPython.core.display.Javascript object>"
      ]
     },
     "metadata": {},
     "output_type": "display_data"
    }
   ],
   "source": [
    "response = client.define_index_field(\n",
    "    DomainName=domain_name,\n",
    "    IndexField={\"IndexFieldName\": \"id\", \"IndexFieldType\": \"text\", \"TextOptions\": {}},\n",
    ")"
   ]
  },
  {
   "cell_type": "code",
   "execution_count": 12,
   "metadata": {},
   "outputs": [
    {
     "data": {
      "application/javascript": [
       "\n",
       "            setTimeout(function() {\n",
       "                var nbb_cell_id = 12;\n",
       "                var nbb_unformatted_code = \"response = client.define_index_field(\\n    DomainName=domain_name,\\n    IndexField={\\n        \\\"IndexFieldName\\\": \\\"title\\\", \\n        \\\"IndexFieldType\\\": \\\"text\\\", \\n        \\\"TextOptions\\\": {}},\\n)\";\n",
       "                var nbb_formatted_code = \"response = client.define_index_field(\\n    DomainName=domain_name,\\n    IndexField={\\\"IndexFieldName\\\": \\\"title\\\", \\\"IndexFieldType\\\": \\\"text\\\", \\\"TextOptions\\\": {}},\\n)\";\n",
       "                var nbb_cells = Jupyter.notebook.get_cells();\n",
       "                for (var i = 0; i < nbb_cells.length; ++i) {\n",
       "                    if (nbb_cells[i].input_prompt_number == nbb_cell_id) {\n",
       "                        if (nbb_cells[i].get_text() == nbb_unformatted_code) {\n",
       "                             nbb_cells[i].set_text(nbb_formatted_code);\n",
       "                        }\n",
       "                        break;\n",
       "                    }\n",
       "                }\n",
       "            }, 500);\n",
       "            "
      ],
      "text/plain": [
       "<IPython.core.display.Javascript object>"
      ]
     },
     "metadata": {},
     "output_type": "display_data"
    }
   ],
   "source": [
    "response = client.define_index_field(\n",
    "    DomainName=domain_name,\n",
    "    IndexField={\"IndexFieldName\": \"title\", \"IndexFieldType\": \"text\", \"TextOptions\": {}},\n",
    ")"
   ]
  },
  {
   "cell_type": "code",
   "execution_count": 13,
   "metadata": {},
   "outputs": [
    {
     "data": {
      "application/javascript": [
       "\n",
       "            setTimeout(function() {\n",
       "                var nbb_cell_id = 13;\n",
       "                var nbb_unformatted_code = \"response = client.define_index_field(\\n    DomainName=domain_name,\\n    IndexField={\\n        \\\"IndexFieldName\\\": \\\"plot\\\",\\n        \\\"IndexFieldType\\\": \\\"text\\\",\\n        \\\"TextOptions\\\": {},\\n    },\\n)\";\n",
       "                var nbb_formatted_code = \"response = client.define_index_field(\\n    DomainName=domain_name,\\n    IndexField={\\n        \\\"IndexFieldName\\\": \\\"plot\\\",\\n        \\\"IndexFieldType\\\": \\\"text\\\",\\n        \\\"TextOptions\\\": {},\\n    },\\n)\";\n",
       "                var nbb_cells = Jupyter.notebook.get_cells();\n",
       "                for (var i = 0; i < nbb_cells.length; ++i) {\n",
       "                    if (nbb_cells[i].input_prompt_number == nbb_cell_id) {\n",
       "                        if (nbb_cells[i].get_text() == nbb_unformatted_code) {\n",
       "                             nbb_cells[i].set_text(nbb_formatted_code);\n",
       "                        }\n",
       "                        break;\n",
       "                    }\n",
       "                }\n",
       "            }, 500);\n",
       "            "
      ],
      "text/plain": [
       "<IPython.core.display.Javascript object>"
      ]
     },
     "metadata": {},
     "output_type": "display_data"
    }
   ],
   "source": [
    "response = client.define_index_field(\n",
    "    DomainName=domain_name,\n",
    "    IndexField={\n",
    "        \"IndexFieldName\": \"plot\",\n",
    "        \"IndexFieldType\": \"text\",\n",
    "        \"TextOptions\": {},\n",
    "    },\n",
    ")"
   ]
  },
  {
   "cell_type": "code",
   "execution_count": 14,
   "metadata": {},
   "outputs": [
    {
     "data": {
      "application/javascript": [
       "\n",
       "            setTimeout(function() {\n",
       "                var nbb_cell_id = 14;\n",
       "                var nbb_unformatted_code = \"response = client.define_index_field(\\n    DomainName=domain_name,\\n    IndexField={\\n        \\\"IndexFieldName\\\": \\\"image_url\\\",\\n        \\\"IndexFieldType\\\": \\\"text\\\",\\n        \\\"TextOptions\\\": {},\\n    },\\n)\";\n",
       "                var nbb_formatted_code = \"response = client.define_index_field(\\n    DomainName=domain_name,\\n    IndexField={\\n        \\\"IndexFieldName\\\": \\\"image_url\\\",\\n        \\\"IndexFieldType\\\": \\\"text\\\",\\n        \\\"TextOptions\\\": {},\\n    },\\n)\";\n",
       "                var nbb_cells = Jupyter.notebook.get_cells();\n",
       "                for (var i = 0; i < nbb_cells.length; ++i) {\n",
       "                    if (nbb_cells[i].input_prompt_number == nbb_cell_id) {\n",
       "                        if (nbb_cells[i].get_text() == nbb_unformatted_code) {\n",
       "                             nbb_cells[i].set_text(nbb_formatted_code);\n",
       "                        }\n",
       "                        break;\n",
       "                    }\n",
       "                }\n",
       "            }, 500);\n",
       "            "
      ],
      "text/plain": [
       "<IPython.core.display.Javascript object>"
      ]
     },
     "metadata": {},
     "output_type": "display_data"
    }
   ],
   "source": [
    "response = client.define_index_field(\n",
    "    DomainName=domain_name,\n",
    "    IndexField={\n",
    "        \"IndexFieldName\": \"image_url\",\n",
    "        \"IndexFieldType\": \"text\",\n",
    "        \"TextOptions\": {},\n",
    "    },\n",
    ")"
   ]
  },
  {
   "cell_type": "code",
   "execution_count": 15,
   "metadata": {},
   "outputs": [
    {
     "data": {
      "application/javascript": [
       "\n",
       "            setTimeout(function() {\n",
       "                var nbb_cell_id = 15;\n",
       "                var nbb_unformatted_code = \"response = client.define_index_field(\\n    DomainName=domain_name,\\n    IndexField={\\n        \\\"IndexFieldName\\\": \\\"year\\\",\\n        \\\"IndexFieldType\\\": \\\"int\\\",\\n        \\\"IntOptions\\\": {},\\n    },\\n)\";\n",
       "                var nbb_formatted_code = \"response = client.define_index_field(\\n    DomainName=domain_name,\\n    IndexField={\\n        \\\"IndexFieldName\\\": \\\"year\\\",\\n        \\\"IndexFieldType\\\": \\\"int\\\",\\n        \\\"IntOptions\\\": {},\\n    },\\n)\";\n",
       "                var nbb_cells = Jupyter.notebook.get_cells();\n",
       "                for (var i = 0; i < nbb_cells.length; ++i) {\n",
       "                    if (nbb_cells[i].input_prompt_number == nbb_cell_id) {\n",
       "                        if (nbb_cells[i].get_text() == nbb_unformatted_code) {\n",
       "                             nbb_cells[i].set_text(nbb_formatted_code);\n",
       "                        }\n",
       "                        break;\n",
       "                    }\n",
       "                }\n",
       "            }, 500);\n",
       "            "
      ],
      "text/plain": [
       "<IPython.core.display.Javascript object>"
      ]
     },
     "metadata": {},
     "output_type": "display_data"
    }
   ],
   "source": [
    "response = client.define_index_field(\n",
    "    DomainName=domain_name,\n",
    "    IndexField={\n",
    "        \"IndexFieldName\": \"year\",\n",
    "        \"IndexFieldType\": \"int\",\n",
    "        \"IntOptions\": {},\n",
    "    },\n",
    ")"
   ]
  },
  {
   "cell_type": "code",
   "execution_count": 16,
   "metadata": {},
   "outputs": [
    {
     "data": {
      "application/javascript": [
       "\n",
       "            setTimeout(function() {\n",
       "                var nbb_cell_id = 16;\n",
       "                var nbb_unformatted_code = \"response = client.define_index_field(\\n    DomainName=domain_name,\\n    IndexField={\\n        \\\"IndexFieldName\\\": \\\"running_time_secs\\\",\\n        \\\"IndexFieldType\\\": \\\"int\\\",\\n        \\\"IntOptions\\\": {},\\n    },\\n)\";\n",
       "                var nbb_formatted_code = \"response = client.define_index_field(\\n    DomainName=domain_name,\\n    IndexField={\\n        \\\"IndexFieldName\\\": \\\"running_time_secs\\\",\\n        \\\"IndexFieldType\\\": \\\"int\\\",\\n        \\\"IntOptions\\\": {},\\n    },\\n)\";\n",
       "                var nbb_cells = Jupyter.notebook.get_cells();\n",
       "                for (var i = 0; i < nbb_cells.length; ++i) {\n",
       "                    if (nbb_cells[i].input_prompt_number == nbb_cell_id) {\n",
       "                        if (nbb_cells[i].get_text() == nbb_unformatted_code) {\n",
       "                             nbb_cells[i].set_text(nbb_formatted_code);\n",
       "                        }\n",
       "                        break;\n",
       "                    }\n",
       "                }\n",
       "            }, 500);\n",
       "            "
      ],
      "text/plain": [
       "<IPython.core.display.Javascript object>"
      ]
     },
     "metadata": {},
     "output_type": "display_data"
    }
   ],
   "source": [
    "response = client.define_index_field(\n",
    "    DomainName=domain_name,\n",
    "    IndexField={\n",
    "        \"IndexFieldName\": \"running_time_secs\",\n",
    "        \"IndexFieldType\": \"int\",\n",
    "        \"IntOptions\": {},\n",
    "    },\n",
    ")"
   ]
  },
  {
   "cell_type": "code",
   "execution_count": 17,
   "metadata": {},
   "outputs": [
    {
     "data": {
      "application/javascript": [
       "\n",
       "            setTimeout(function() {\n",
       "                var nbb_cell_id = 17;\n",
       "                var nbb_unformatted_code = \"response = client.define_index_field(\\n    DomainName=domain_name,\\n    IndexField={\\n        \\\"IndexFieldName\\\": \\\"rank\\\",\\n        \\\"IndexFieldType\\\": \\\"int\\\",\\n        \\\"IntOptions\\\": {},\\n    },\\n)\";\n",
       "                var nbb_formatted_code = \"response = client.define_index_field(\\n    DomainName=domain_name,\\n    IndexField={\\n        \\\"IndexFieldName\\\": \\\"rank\\\",\\n        \\\"IndexFieldType\\\": \\\"int\\\",\\n        \\\"IntOptions\\\": {},\\n    },\\n)\";\n",
       "                var nbb_cells = Jupyter.notebook.get_cells();\n",
       "                for (var i = 0; i < nbb_cells.length; ++i) {\n",
       "                    if (nbb_cells[i].input_prompt_number == nbb_cell_id) {\n",
       "                        if (nbb_cells[i].get_text() == nbb_unformatted_code) {\n",
       "                             nbb_cells[i].set_text(nbb_formatted_code);\n",
       "                        }\n",
       "                        break;\n",
       "                    }\n",
       "                }\n",
       "            }, 500);\n",
       "            "
      ],
      "text/plain": [
       "<IPython.core.display.Javascript object>"
      ]
     },
     "metadata": {},
     "output_type": "display_data"
    }
   ],
   "source": [
    "response = client.define_index_field(\n",
    "    DomainName=domain_name,\n",
    "    IndexField={\n",
    "        \"IndexFieldName\": \"rank\",\n",
    "        \"IndexFieldType\": \"int\",\n",
    "        \"IntOptions\": {},\n",
    "    },\n",
    ")"
   ]
  },
  {
   "cell_type": "code",
   "execution_count": 18,
   "metadata": {},
   "outputs": [
    {
     "data": {
      "application/javascript": [
       "\n",
       "            setTimeout(function() {\n",
       "                var nbb_cell_id = 18;\n",
       "                var nbb_unformatted_code = \"response = client.define_index_field(\\n    DomainName=domain_name,\\n    IndexField={\\n        \\\"IndexFieldName\\\": \\\"rating\\\",\\n        \\\"IndexFieldType\\\": \\\"double\\\",\\n        \\\"DoubleOptions\\\": {},\\n    },\\n)\";\n",
       "                var nbb_formatted_code = \"response = client.define_index_field(\\n    DomainName=domain_name,\\n    IndexField={\\n        \\\"IndexFieldName\\\": \\\"rating\\\",\\n        \\\"IndexFieldType\\\": \\\"double\\\",\\n        \\\"DoubleOptions\\\": {},\\n    },\\n)\";\n",
       "                var nbb_cells = Jupyter.notebook.get_cells();\n",
       "                for (var i = 0; i < nbb_cells.length; ++i) {\n",
       "                    if (nbb_cells[i].input_prompt_number == nbb_cell_id) {\n",
       "                        if (nbb_cells[i].get_text() == nbb_unformatted_code) {\n",
       "                             nbb_cells[i].set_text(nbb_formatted_code);\n",
       "                        }\n",
       "                        break;\n",
       "                    }\n",
       "                }\n",
       "            }, 500);\n",
       "            "
      ],
      "text/plain": [
       "<IPython.core.display.Javascript object>"
      ]
     },
     "metadata": {},
     "output_type": "display_data"
    }
   ],
   "source": [
    "response = client.define_index_field(\n",
    "    DomainName=domain_name,\n",
    "    IndexField={\n",
    "        \"IndexFieldName\": \"rating\",\n",
    "        \"IndexFieldType\": \"double\",\n",
    "        \"DoubleOptions\": {},\n",
    "    },\n",
    ")"
   ]
  },
  {
   "cell_type": "code",
   "execution_count": 19,
   "metadata": {},
   "outputs": [
    {
     "data": {
      "application/javascript": [
       "\n",
       "            setTimeout(function() {\n",
       "                var nbb_cell_id = 19;\n",
       "                var nbb_unformatted_code = \"response = client.define_index_field(\\n    DomainName=domain_name,\\n    IndexField={\\n        \\\"IndexFieldName\\\": \\\"release_date\\\",\\n        \\\"IndexFieldType\\\": \\\"date\\\",\\n        \\\"DateOptions\\\": {},\\n    },\\n)\";\n",
       "                var nbb_formatted_code = \"response = client.define_index_field(\\n    DomainName=domain_name,\\n    IndexField={\\n        \\\"IndexFieldName\\\": \\\"release_date\\\",\\n        \\\"IndexFieldType\\\": \\\"date\\\",\\n        \\\"DateOptions\\\": {},\\n    },\\n)\";\n",
       "                var nbb_cells = Jupyter.notebook.get_cells();\n",
       "                for (var i = 0; i < nbb_cells.length; ++i) {\n",
       "                    if (nbb_cells[i].input_prompt_number == nbb_cell_id) {\n",
       "                        if (nbb_cells[i].get_text() == nbb_unformatted_code) {\n",
       "                             nbb_cells[i].set_text(nbb_formatted_code);\n",
       "                        }\n",
       "                        break;\n",
       "                    }\n",
       "                }\n",
       "            }, 500);\n",
       "            "
      ],
      "text/plain": [
       "<IPython.core.display.Javascript object>"
      ]
     },
     "metadata": {},
     "output_type": "display_data"
    }
   ],
   "source": [
    "response = client.define_index_field(\n",
    "    DomainName=domain_name,\n",
    "    IndexField={\n",
    "        \"IndexFieldName\": \"release_date\",\n",
    "        \"IndexFieldType\": \"date\",\n",
    "        \"DateOptions\": {},\n",
    "    },\n",
    ")"
   ]
  },
  {
   "cell_type": "code",
   "execution_count": 20,
   "metadata": {},
   "outputs": [
    {
     "data": {
      "application/javascript": [
       "\n",
       "            setTimeout(function() {\n",
       "                var nbb_cell_id = 20;\n",
       "                var nbb_unformatted_code = \"response = client.define_index_field(\\n    DomainName=domain_name,\\n    IndexField={\\n        \\\"IndexFieldName\\\": \\\"actors\\\",\\n        \\\"IndexFieldType\\\": \\\"text-array\\\",\\n        \\\"TextArrayOptions\\\": {},\\n    },\\n)\";\n",
       "                var nbb_formatted_code = \"response = client.define_index_field(\\n    DomainName=domain_name,\\n    IndexField={\\n        \\\"IndexFieldName\\\": \\\"actors\\\",\\n        \\\"IndexFieldType\\\": \\\"text-array\\\",\\n        \\\"TextArrayOptions\\\": {},\\n    },\\n)\";\n",
       "                var nbb_cells = Jupyter.notebook.get_cells();\n",
       "                for (var i = 0; i < nbb_cells.length; ++i) {\n",
       "                    if (nbb_cells[i].input_prompt_number == nbb_cell_id) {\n",
       "                        if (nbb_cells[i].get_text() == nbb_unformatted_code) {\n",
       "                             nbb_cells[i].set_text(nbb_formatted_code);\n",
       "                        }\n",
       "                        break;\n",
       "                    }\n",
       "                }\n",
       "            }, 500);\n",
       "            "
      ],
      "text/plain": [
       "<IPython.core.display.Javascript object>"
      ]
     },
     "metadata": {},
     "output_type": "display_data"
    }
   ],
   "source": [
    "response = client.define_index_field(\n",
    "    DomainName=domain_name,\n",
    "    IndexField={\n",
    "        \"IndexFieldName\": \"actors\",\n",
    "        \"IndexFieldType\": \"text-array\",\n",
    "        \"TextArrayOptions\": {},\n",
    "    },\n",
    ")"
   ]
  },
  {
   "cell_type": "code",
   "execution_count": 21,
   "metadata": {},
   "outputs": [
    {
     "data": {
      "application/javascript": [
       "\n",
       "            setTimeout(function() {\n",
       "                var nbb_cell_id = 21;\n",
       "                var nbb_unformatted_code = \"response = client.define_index_field(\\n    DomainName=domain_name,\\n    IndexField={\\n        \\\"IndexFieldName\\\": \\\"directors\\\",\\n        \\\"IndexFieldType\\\": \\\"text-array\\\",\\n        \\\"TextArrayOptions\\\": {},\\n    },\\n)\";\n",
       "                var nbb_formatted_code = \"response = client.define_index_field(\\n    DomainName=domain_name,\\n    IndexField={\\n        \\\"IndexFieldName\\\": \\\"directors\\\",\\n        \\\"IndexFieldType\\\": \\\"text-array\\\",\\n        \\\"TextArrayOptions\\\": {},\\n    },\\n)\";\n",
       "                var nbb_cells = Jupyter.notebook.get_cells();\n",
       "                for (var i = 0; i < nbb_cells.length; ++i) {\n",
       "                    if (nbb_cells[i].input_prompt_number == nbb_cell_id) {\n",
       "                        if (nbb_cells[i].get_text() == nbb_unformatted_code) {\n",
       "                             nbb_cells[i].set_text(nbb_formatted_code);\n",
       "                        }\n",
       "                        break;\n",
       "                    }\n",
       "                }\n",
       "            }, 500);\n",
       "            "
      ],
      "text/plain": [
       "<IPython.core.display.Javascript object>"
      ]
     },
     "metadata": {},
     "output_type": "display_data"
    }
   ],
   "source": [
    "response = client.define_index_field(\n",
    "    DomainName=domain_name,\n",
    "    IndexField={\n",
    "        \"IndexFieldName\": \"directors\",\n",
    "        \"IndexFieldType\": \"text-array\",\n",
    "        \"TextArrayOptions\": {},\n",
    "    },\n",
    ")"
   ]
  },
  {
   "cell_type": "code",
   "execution_count": 22,
   "metadata": {},
   "outputs": [
    {
     "data": {
      "application/javascript": [
       "\n",
       "            setTimeout(function() {\n",
       "                var nbb_cell_id = 22;\n",
       "                var nbb_unformatted_code = \"response = client.define_index_field(\\n    DomainName=domain_name,\\n    IndexField={\\n        \\\"IndexFieldName\\\": \\\"genres\\\",\\n        \\\"IndexFieldType\\\": \\\"literal-array\\\",\\n        \\\"IntOptions\\\": {},\\n    },\\n)\";\n",
       "                var nbb_formatted_code = \"response = client.define_index_field(\\n    DomainName=domain_name,\\n    IndexField={\\n        \\\"IndexFieldName\\\": \\\"genres\\\",\\n        \\\"IndexFieldType\\\": \\\"literal-array\\\",\\n        \\\"IntOptions\\\": {},\\n    },\\n)\";\n",
       "                var nbb_cells = Jupyter.notebook.get_cells();\n",
       "                for (var i = 0; i < nbb_cells.length; ++i) {\n",
       "                    if (nbb_cells[i].input_prompt_number == nbb_cell_id) {\n",
       "                        if (nbb_cells[i].get_text() == nbb_unformatted_code) {\n",
       "                             nbb_cells[i].set_text(nbb_formatted_code);\n",
       "                        }\n",
       "                        break;\n",
       "                    }\n",
       "                }\n",
       "            }, 500);\n",
       "            "
      ],
      "text/plain": [
       "<IPython.core.display.Javascript object>"
      ]
     },
     "metadata": {},
     "output_type": "display_data"
    }
   ],
   "source": [
    "response = client.define_index_field(\n",
    "    DomainName=domain_name,\n",
    "    IndexField={\n",
    "        \"IndexFieldName\": \"genres\",\n",
    "        \"IndexFieldType\": \"literal-array\",\n",
    "        \"IntOptions\": {},\n",
    "    },\n",
    ")"
   ]
  },
  {
   "cell_type": "code",
   "execution_count": null,
   "metadata": {},
   "outputs": [],
   "source": []
  },
  {
   "cell_type": "code",
   "execution_count": null,
   "metadata": {},
   "outputs": [],
   "source": []
  },
  {
   "cell_type": "code",
   "execution_count": 23,
   "metadata": {},
   "outputs": [
    {
     "data": {
      "application/javascript": [
       "\n",
       "            setTimeout(function() {\n",
       "                var nbb_cell_id = 23;\n",
       "                var nbb_unformatted_code = \"response = client.index_documents(\\n    DomainName=domain_name\\n)\";\n",
       "                var nbb_formatted_code = \"response = client.index_documents(DomainName=domain_name)\";\n",
       "                var nbb_cells = Jupyter.notebook.get_cells();\n",
       "                for (var i = 0; i < nbb_cells.length; ++i) {\n",
       "                    if (nbb_cells[i].input_prompt_number == nbb_cell_id) {\n",
       "                        if (nbb_cells[i].get_text() == nbb_unformatted_code) {\n",
       "                             nbb_cells[i].set_text(nbb_formatted_code);\n",
       "                        }\n",
       "                        break;\n",
       "                    }\n",
       "                }\n",
       "            }, 500);\n",
       "            "
      ],
      "text/plain": [
       "<IPython.core.display.Javascript object>"
      ]
     },
     "metadata": {},
     "output_type": "display_data"
    }
   ],
   "source": [
    "response = client.index_documents(DomainName=domain_name)"
   ]
  },
  {
   "cell_type": "code",
   "execution_count": null,
   "metadata": {},
   "outputs": [],
   "source": []
  },
  {
   "cell_type": "code",
   "execution_count": null,
   "metadata": {},
   "outputs": [],
   "source": [
    "# response = client.define_index_field(\n",
    "#     DomainName='string',\n",
    "#     IndexField={\n",
    "#         'IndexFieldName': 'string',\n",
    "#         'IndexFieldType': 'int'|'double'|'literal'|'text'|'date'|'latlon'|'int-array'|'double-array'|'literal-array'|'text-array'|'date-array',\n",
    "#         'IntOptions': {\n",
    "#             'DefaultValue': 123,\n",
    "#             'SourceField': 'string',\n",
    "#             'FacetEnabled': True|False,\n",
    "#             'SearchEnabled': True|False,\n",
    "#             'ReturnEnabled': True|False,\n",
    "#             'SortEnabled': True|False\n",
    "#         },\n",
    "#         'DoubleOptions': {\n",
    "#             'DefaultValue': 123.0,\n",
    "#             'SourceField': 'string',\n",
    "#             'FacetEnabled': True|False,\n",
    "#             'SearchEnabled': True|False,\n",
    "#             'ReturnEnabled': True|False,\n",
    "#             'SortEnabled': True|False\n",
    "#         },\n",
    "#         'LiteralOptions': {\n",
    "#             'DefaultValue': 'string',\n",
    "#             'SourceField': 'string',\n",
    "#             'FacetEnabled': True|False,\n",
    "#             'SearchEnabled': True|False,\n",
    "#             'ReturnEnabled': True|False,\n",
    "#             'SortEnabled': True|False\n",
    "#         },\n",
    "#         'TextOptions': {\n",
    "#             'DefaultValue': 'string',\n",
    "#             'SourceField': 'string',\n",
    "#             'ReturnEnabled': True|False,\n",
    "#             'SortEnabled': True|False,\n",
    "#             'HighlightEnabled': True|False,\n",
    "#             'AnalysisScheme': 'string'\n",
    "#         },\n",
    "#         'DateOptions': {\n",
    "#             'DefaultValue': 'string',\n",
    "#             'SourceField': 'string',\n",
    "#             'FacetEnabled': True|False,\n",
    "#             'SearchEnabled': True|False,\n",
    "#             'ReturnEnabled': True|False,\n",
    "#             'SortEnabled': True|False\n",
    "#         },\n",
    "#         'LatLonOptions': {\n",
    "#             'DefaultValue': 'string',\n",
    "#             'SourceField': 'string',\n",
    "#             'FacetEnabled': True|False,\n",
    "#             'SearchEnabled': True|False,\n",
    "#             'ReturnEnabled': True|False,\n",
    "#             'SortEnabled': True|False\n",
    "#         },\n",
    "#         'IntArrayOptions': {\n",
    "#             'DefaultValue': 123,\n",
    "#             'SourceFields': 'string',\n",
    "#             'FacetEnabled': True|False,\n",
    "#             'SearchEnabled': True|False,\n",
    "#             'ReturnEnabled': True|False\n",
    "#         },\n",
    "#         'DoubleArrayOptions': {\n",
    "#             'DefaultValue': 123.0,\n",
    "#             'SourceFields': 'string',\n",
    "#             'FacetEnabled': True|False,\n",
    "#             'SearchEnabled': True|False,\n",
    "#             'ReturnEnabled': True|False\n",
    "#         },\n",
    "#         'LiteralArrayOptions': {\n",
    "#             'DefaultValue': 'string',\n",
    "#             'SourceFields': 'string',\n",
    "#             'FacetEnabled': True|False,\n",
    "#             'SearchEnabled': True|False,\n",
    "#             'ReturnEnabled': True|False\n",
    "#         },\n",
    "#         'TextArrayOptions': {\n",
    "#             'DefaultValue': 'string',\n",
    "#             'SourceFields': 'string',\n",
    "#             'ReturnEnabled': True|False,\n",
    "#             'HighlightEnabled': True|False,\n",
    "#             'AnalysisScheme': 'string'\n",
    "#         },\n",
    "#         'DateArrayOptions': {\n",
    "#             'DefaultValue': 'string',\n",
    "#             'SourceFields': 'string',\n",
    "#             'FacetEnabled': True|False,\n",
    "#             'SearchEnabled': True|False,\n",
    "#             'ReturnEnabled': True|False\n",
    "#         }\n",
    "#     }\n",
    "# )"
   ]
  }
 ],
 "metadata": {
  "kernelspec": {
   "display_name": "Python 3 (ipykernel)",
   "language": "python",
   "name": "python3"
  },
  "language_info": {
   "codemirror_mode": {
    "name": "ipython",
    "version": 3
   },
   "file_extension": ".py",
   "mimetype": "text/x-python",
   "name": "python",
   "nbconvert_exporter": "python",
   "pygments_lexer": "ipython3",
   "version": "3.8.16"
  },
  "toc": {
   "base_numbering": 1,
   "nav_menu": {},
   "number_sections": true,
   "sideBar": true,
   "skip_h1_title": false,
   "title_cell": "Table of Contents",
   "title_sidebar": "Contents",
   "toc_cell": false,
   "toc_position": {},
   "toc_section_display": true,
   "toc_window_display": false
  }
 },
 "nbformat": 4,
 "nbformat_minor": 4
}
